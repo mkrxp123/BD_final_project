{
 "cells": [
  {
   "cell_type": "code",
   "execution_count": 1,
   "metadata": {},
   "outputs": [],
   "source": [
    "import json\n",
    "from pyspark.sql import SparkSession, functions as f, DataFrame as DF\n",
    "from pyspark.sql.types import *\n",
    "spark = SparkSession.builder \\\n",
    "      .master(\"local[1]\") \\\n",
    "      .appName(\"BD_final_project\") \\\n",
    "      .getOrCreate() "
   ]
  },
  {
   "cell_type": "code",
   "execution_count": 2,
   "metadata": {},
   "outputs": [],
   "source": [
    "df = spark.read.csv(\"./data/used_cars_data_combine.csv\", header=True).drop(\"_c0\", \"Unnamed: 0\")\n",
    "df.createOrReplaceTempView(\"df\")"
   ]
  },
  {
   "cell_type": "code",
   "execution_count": 3,
   "metadata": {},
   "outputs": [],
   "source": [
    "null_cnt = df.select([f.count(f.when(f.isnull(c), c)).alias(c) for c in df.columns]).toPandas()\n",
    "threshold = null_cnt > 0.4 * df.count()\n",
    "df_drop = df.drop(*threshold.columns[threshold.iloc[0]])\n",
    "with open(\"./data/useless.json\", 'r') as useless:\n",
    "    df_drop = df_drop.drop(*json.load(useless))\n",
    "# df.createOrReplaceTempView(\"df\")"
   ]
  },
  {
   "cell_type": "code",
   "execution_count": 4,
   "metadata": {},
   "outputs": [],
   "source": [
    "def performance(engine: str):\n",
    "    if engine is None:\n",
    "        return [None, None]\n",
    "    p = [int(i) for i in engine.replace(\",\",\"\").split() if i.isdigit()]\n",
    "    return p if len(p) == 2 else [None, None]\n",
    "\n",
    "def hp_rpm(df: DF, col: str) -> DF:\n",
    "    original = df.columns\n",
    "    schema = StructType([StructField(f\"{col}_hp\", IntegerType(), True),\n",
    "                         StructField(f\"{col}_rpm\", IntegerType(), True)])\n",
    "    trans = f.udf(performance, schema)\n",
    "    return df.withColumn(\"result\", trans(df[col])).select(*(original + [\"result.*\"]))\n",
    "\n",
    "for col in [\"power\", \"torque\"]:\n",
    "    df_drop = hp_rpm(df_drop, col).drop(col)\n",
    "\n",
    "df_drop = df_drop.drop(\"power_hp\")"
   ]
  },
  {
   "cell_type": "code",
   "execution_count": 5,
   "metadata": {},
   "outputs": [],
   "source": [
    "transmission = f.udf(lambda tr: \"6\" if tr in [\"Automatic\", \"Continuously Variable Transmission\", \"Manual\"] else tr, StringType())\n",
    "df_extract = df_drop.withColumn(\"transmission_display\", transmission(df[\"transmission_display\"]))"
   ]
  },
  {
   "cell_type": "code",
   "execution_count": 6,
   "metadata": {},
   "outputs": [],
   "source": [
    "df_extract = df_extract.withColumn(\"is_new\", df[\"is_new\"].cast(BooleanType()))"
   ]
  },
  {
   "cell_type": "code",
   "execution_count": 7,
   "metadata": {},
   "outputs": [],
   "source": [
    "def extract_val(df: DF, cols: list) -> DF:\n",
    "    for col in cols:\n",
    "        df = df.withColumn(col, f.regexp_extract(col, r\"(\\d+(?:\\.\\d+)?)\", 1).cast(FloatType()))\n",
    "    return df\n",
    "\n",
    "df_extract = extract_val(df_extract, [\"fuel_tank_volume\", \"maximum_seating\", \"transmission_display\"])"
   ]
  },
  {
   "cell_type": "code",
   "execution_count": 8,
   "metadata": {},
   "outputs": [],
   "source": [
    "df_extract = df_extract.dropna(subset=\"mileage\")"
   ]
  },
  {
   "cell_type": "code",
   "execution_count": 9,
   "metadata": {},
   "outputs": [],
   "source": [
    "electric_mean = df_extract.select([f.mean(\"horsepower\"), f.mean(\"engine_displacement\")]).toPandas()\n",
    "electric = {\"engine_type\": \"Electric_Motor\", \n",
    "            \"transmission_display\": float(6), \n",
    "            \"horsepower\": electric_mean[\"avg(horsepower)\"][0], \n",
    "            \"engine_displacement\": electric_mean[\"avg(engine_displacement)\"][0]}\n",
    "\n",
    "df_fill = df_extract\n",
    "for key, item in electric.items():\n",
    "   df_fill = df_fill.withColumn(key, f.when(f.col(\"fuel_type\") == \"Electric\", item).otherwise(f.col(key)))"
   ]
  },
  {
   "cell_type": "code",
   "execution_count": 10,
   "metadata": {},
   "outputs": [],
   "source": [
    "# df_extract.groupby([\"body_type\", \"engine_displacement\", \"engine_type\", \"fuel_type\", \"horsepower\", \"make_name\", \"model_name\",  \"year\"]).agg(f.mean(\"maximum_seating\")).count()\n",
    "def group_agg(df: DF, cols: dict[tuple: list], op: str) -> DF:\n",
    "    func = f.mean if op == \"avg\" else f.max\n",
    "    for key, item in cols.items():\n",
    "        temp = df.groupby(item).agg(*[func(c) for c in key])\n",
    "        df = df.join(temp, on=item)\n",
    "        for k in key:\n",
    "            replace = f\"{op}({k})\"\n",
    "            df = df.withColumn(k, f.when(f.isnull(k), df[replace]).otherwise(df[k])).drop(replace)\n",
    "    return df\n",
    "\n",
    "fill_avg_cols = {\n",
    "    (\"maximum_seating\",):\n",
    "        [\"make_name\", \"model_name\", \"body_type\"],\n",
    "    (\"fuel_tank_volume\",):\n",
    "        [\"make_name\", \"model_name\",  \"year\"],\n",
    "    (\"horsepower\", \"engine_displacement\"):  \n",
    "        [\"engine_type\", \"fuel_type\", \"make_name\", \"model_name\",  \"year\"],\n",
    "    (\"power_rpm\", \"torque_hp\", \"torque_rpm\"):\n",
    "        [\"engine_type\", \"engine_displacement\", \"horsepower\", \"fuel_type\", \"make_name\"],\n",
    "    (\"city_fuel_economy\", \"highway_fuel_economy\"):\n",
    "        [\"body_type\", \"engine_displacement\", \"engine_type\", \"fuel_type\", \"horsepower\", \"make_name\", \"model_name\",  \"year\"]\n",
    "}\n",
    "\n",
    "fill_max_cols = {\n",
    "    (\"body_type\", \"transmission\", \"fuel_type\", \"engine_type\", \"wheel_system\"):\n",
    "        ['make_name','model_name']\n",
    "}"
   ]
  },
  {
   "cell_type": "code",
   "execution_count": 11,
   "metadata": {},
   "outputs": [],
   "source": [
    "df_fill = group_agg(df_fill, fill_avg_cols, \"avg\")\n",
    "df_fill = group_agg(df_fill, fill_max_cols, \"max\")"
   ]
  },
  {
   "cell_type": "code",
   "execution_count": 12,
   "metadata": {},
   "outputs": [],
   "source": [
    "df_final = df_fill.dropna()"
   ]
  },
  {
   "cell_type": "code",
   "execution_count": 13,
   "metadata": {},
   "outputs": [],
   "source": [
    "convert = {\n",
    "    ByteType:   [\"city_fuel_economy\", \"highway_fuel_economy\", \"fuel_tank_volume\", \"maximum_seating\", \"transmission_display\", \"is_new\"],\n",
    "    ShortType:  [\"engine_displacement\", \"horsepower\", \"power_rpm\", \"torque_hp\", \"torque_rpm\", \"year\"],\n",
    "    IntegerType:[\"mileage\", \"price\"]\n",
    "}\n",
    "\n",
    "for t, cols in convert.items():\n",
    "    for col in cols:\n",
    "        df_final = df_final.withColumn(col, df_final[col].cast(t()))"
   ]
  },
  {
   "cell_type": "code",
   "execution_count": 14,
   "metadata": {},
   "outputs": [
    {
     "name": "stdout",
     "output_type": "stream",
     "text": [
      "+---------+----------+---------+-------------------+-----------+---------+----------+----+-----------------+----------------+--------------------+------+-------------+---------------+-------+------+------------+--------------------+------------+----------+-------------+-----------------+---------+---------+----------+\n",
      "|make_name|model_name|body_type|engine_displacement|engine_type|fuel_type|horsepower|year|city_fuel_economy|fuel_tank_volume|highway_fuel_economy|is_new|listing_color|maximum_seating|mileage| price|transmission|transmission_display|wheel_system| sold_date|sold_date_CPI|sold_date_Manheim|power_rpm|torque_hp|torque_rpm|\n",
      "+---------+----------+---------+-------------------+-----------+---------+----------+----+-----------------+----------------+--------------------+------+-------------+---------------+-------+------+------------+--------------------+------------+----------+-------------+-----------------+---------+---------+----------+\n",
      "|  Bentley|  Mulsanne|    Sedan|               6800|         V8| Gasoline|       530|2017|               11|              25|                  18|     0|        WHITE|              5|  16458|195500|           A|                   6|         RWD|2020-08-01|         3.84|            15.82|     4000|      811|      1750|\n",
      "| INFINITI|Q50 Hybrid|    Sedan|               3500|  V6 Hybrid|   Hybrid|       360|2016|               28|              17|                  34|     0|         GRAY|              5|  35120| 20500|           A|                   7|         RWD|2020-07-27|        -1.04|            12.53|     6800|      403|      5000|\n",
      "| INFINITI|Q50 Hybrid|    Sedan|               3500|  V6 Hybrid|   Hybrid|       360|2016|               28|              17|                  34|     0|      UNKNOWN|              5|  79245| 19542|           A|                   6|         RWD|2020-08-19|         3.84|            15.82|     6800|      403|      5000|\n",
      "| INFINITI|Q50 Hybrid|    Sedan|               3500|  V6 Hybrid|   Hybrid|       360|2016|               27|              17|                  31|     0|         GRAY|              5|  25918| 28152|           A|                   7|         AWD|2020-06-05|        -2.99|             6.27|     6800|      403|      5000|\n",
      "| INFINITI|Q50 Hybrid|    Sedan|               3500|  V6 Hybrid|   Hybrid|       360|2016|               28|              17|                  34|     0|        WHITE|              5|  35407| 22998|           A|                   6|         RWD|2020-07-22|        -1.04|            12.53|     6800|      403|      5000|\n",
      "| INFINITI|Q50 Hybrid|    Sedan|               3500|  V6 Hybrid|   Hybrid|       360|2016|               28|              17|                  34|     0|        WHITE|              5|  33616| 21982|           A|                   7|         RWD|2020-08-14|         3.84|            15.82|     6800|      403|      5000|\n",
      "|  Bentley|  Mulsanne|    Sedan|               6800|         V8| Gasoline|       505|2012|               11|              25|                  18|     0|         GOLD|              5|  21000|107995|           A|                   6|         RWD|2020-07-23|        -1.04|            12.53|     4200|      752|      1750|\n",
      "|  Bentley|  Mulsanne|    Sedan|               6800|         V8| Gasoline|       505|2012|               11|              25|                  18|     0|        BLACK|              5|  33548| 88793|           A|                   8|         RWD|2019-10-26|         1.43|            -0.46|     4200|      752|      1750|\n",
      "|  Bentley|  Mulsanne|    Sedan|               6800|         V8| Gasoline|       505|2012|               11|              25|                  18|     0|      UNKNOWN|              5|  25870|115906|           A|                   6|         RWD|2020-07-18|        -1.04|            12.53|     4200|      752|      1750|\n",
      "|  Bentley|  Mulsanne|    Sedan|               6800|         V8| Gasoline|       505|2012|               11|              25|                  18|     0|      UNKNOWN|              5|  13764|122950|           A|                   6|         RWD|2020-08-15|         3.84|            15.82|     4200|      752|      1750|\n",
      "|  Bentley|  Mulsanne|    Sedan|               6800|         V8| Gasoline|       505|2012|               11|              25|                  18|     0|        BLACK|              5|   4537|119450|           A|                   6|         RWD|2019-12-11|        -0.55|             2.53|     4200|      752|      1750|\n",
      "| INFINITI|Q50 Hybrid|    Sedan|               3500|  V6 Hybrid|   Hybrid|       360|2015|               28|              17|                  35|     0|        WHITE|              5|  39604| 20995|           A|                   7|         AWD|2019-12-12|        -0.55|             2.53|     6800|      403|      5000|\n",
      "| INFINITI|Q50 Hybrid|    Sedan|               3500|  V6 Hybrid|   Hybrid|       360|2015|               27|              17|                  31|     0|        WHITE|              5|  98572| 16500|           A|                   7|         AWD|2020-07-20|        -1.04|            12.53|     6800|      403|      5000|\n",
      "| INFINITI|Q50 Hybrid|    Sedan|               3500|  V6 Hybrid|   Hybrid|       360|2015|               27|              17|                  31|     0|        WHITE|              5|  99208| 22469|           A|                   6|         AWD|2020-09-02|        10.04|             15.2|     6800|      403|      5000|\n",
      "| INFINITI|Q50 Hybrid|    Sedan|               3500|  V6 Hybrid|   Hybrid|       360|2015|               29|              17|                  36|     0|        WHITE|              5|  76194| 18997|           A|                   6|         RWD|2020-09-09|        10.04|             15.2|     6800|      403|      5000|\n",
      "| INFINITI|Q50 Hybrid|    Sedan|               3500|  V6 Hybrid|   Hybrid|       360|2015|               28|              17|                  35|     0|        WHITE|              5|  60957| 22000|           A|                   7|         AWD|2020-08-21|         3.84|            15.82|     6800|      403|      5000|\n",
      "| INFINITI|Q50 Hybrid|    Sedan|               3500|  V6 Hybrid|   Hybrid|       360|2015|               28|              17|                  35|     0|          RED|              5|  95500| 17490|           A|                   6|         AWD|2020-05-27|        -0.33|            -1.84|     6800|      403|      5000|\n",
      "|  Bentley|  Mulsanne|    Sedan|               6800|         V8| Gasoline|       530|2019|               10|              25|                  16|     0|      UNKNOWN|              5|    330|335995|           A|                   6|         RWD|2020-07-05|        -1.04|            12.53|     4000|      811|      1750|\n",
      "|  Bentley|  Mulsanne|    Sedan|               6800|         V8| Gasoline|       530|2019|               10|              25|                  16|     1|      UNKNOWN|              5|     78|377520|           A|                   8|         RWD|2019-06-14|         1.12|             4.08|     4000|      811|      1750|\n",
      "|  Bentley|  Mulsanne|    Sedan|               6800|         V8| Gasoline|       505|2011|               11|              25|                  18|     0|      UNKNOWN|              5|  15000|104990|           A|                   6|         RWD|2020-09-01|        10.04|             15.2|     4200|      752|      1750|\n",
      "+---------+----------+---------+-------------------+-----------+---------+----------+----+-----------------+----------------+--------------------+------+-------------+---------------+-------+------+------------+--------------------+------------+----------+-------------+-----------------+---------+---------+----------+\n",
      "only showing top 20 rows\n",
      "\n"
     ]
    }
   ],
   "source": [
    "df_final.show()"
   ]
  }
 ],
 "metadata": {
  "kernelspec": {
   "display_name": "big",
   "language": "python",
   "name": "python3"
  },
  "language_info": {
   "codemirror_mode": {
    "name": "ipython",
    "version": 3
   },
   "file_extension": ".py",
   "mimetype": "text/x-python",
   "name": "python",
   "nbconvert_exporter": "python",
   "pygments_lexer": "ipython3",
   "version": "3.10.11"
  },
  "orig_nbformat": 4
 },
 "nbformat": 4,
 "nbformat_minor": 2
}
