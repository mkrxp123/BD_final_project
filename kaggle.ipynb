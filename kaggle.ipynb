{
 "cells": [
  {
   "cell_type": "code",
   "execution_count": 62,
   "metadata": {},
   "outputs": [],
   "source": [
    "import json\n",
    "from pyspark.sql import SparkSession, functions as f, DataFrame as DF\n",
    "from pyspark.sql.types import *\n",
    "spark = SparkSession.builder \\\n",
    "      .master(\"local[1]\") \\\n",
    "      .appName(\"BD_final_project\") \\\n",
    "      .getOrCreate() "
   ]
  },
  {
   "cell_type": "code",
   "execution_count": 2,
   "metadata": {},
   "outputs": [],
   "source": [
    "df = spark.read.csv(\"./data/used_cars_data_combine.csv\", header=True).drop(\"_c0\", \"Unnamed: 0\")\n",
    "df.createOrReplaceTempView(\"df\")"
   ]
  },
  {
   "cell_type": "code",
   "execution_count": 3,
   "metadata": {},
   "outputs": [],
   "source": [
    "null_cnt = df.select([f.count(f.when(f.isnull(c), c)).alias(c) for c in df.columns]).toPandas()\n",
    "threshold = null_cnt > 0.4 * df.count()\n",
    "df_drop = df.drop(*threshold.columns[threshold.iloc[0]])\n",
    "with open(\"./data/useless.json\", 'r') as useless:\n",
    "    df_drop = df_drop.drop(*json.load(useless))\n",
    "# df.createOrReplaceTempView(\"df\")"
   ]
  },
  {
   "cell_type": "code",
   "execution_count": 4,
   "metadata": {},
   "outputs": [],
   "source": [
    "def performance(engine: str):\n",
    "    if engine is None:\n",
    "        return [None, None]\n",
    "    p = [int(i) for i in engine.replace(\",\",\"\").split() if i.isdigit()]\n",
    "    return p if len(p) == 2 else [None, None]\n",
    "\n",
    "def hp_rpm(df: DF, col: str) -> DF:\n",
    "    original = df.columns\n",
    "    schema = StructType([StructField(f\"{col}_hp\", IntegerType(), True),\n",
    "                         StructField(f\"{col}_rpm\", IntegerType(), True)])\n",
    "    trans = f.udf(performance, schema)\n",
    "    return df.withColumn(\"result\", trans(df[col])).select(*(original + [\"result.*\"]))\n",
    "\n",
    "for col in [\"power\", \"torque\"]:\n",
    "    df_drop = hp_rpm(df_drop, col).drop(col)\n",
    "\n",
    "df_drop = df_drop.drop(\"power_hp\")"
   ]
  },
  {
   "cell_type": "code",
   "execution_count": 5,
   "metadata": {},
   "outputs": [],
   "source": [
    "transmission = f.udf(lambda tr: \"6\" if tr in [\"Automatic\", \"Continuously Variable Transmission\", \"Manual\"] else tr, StringType())\n",
    "df_extract = df_drop.withColumn(\"transmission_display\", transmission(df[\"transmission_display\"]))"
   ]
  },
  {
   "cell_type": "code",
   "execution_count": 6,
   "metadata": {},
   "outputs": [],
   "source": [
    "df_extract = df_extract.withColumn(\"is_new\", df[\"is_new\"].cast(BooleanType()))"
   ]
  },
  {
   "cell_type": "code",
   "execution_count": 7,
   "metadata": {},
   "outputs": [],
   "source": [
    "def extract_val(df: DF, cols: list) -> DF:\n",
    "    for col in cols:\n",
    "        df = df.withColumn(col, f.regexp_extract(col, r\"(\\d+(?:\\.\\d+)?)\", 1))\n",
    "    return df\n",
    "\n",
    "df_extract = extract_val(df_extract, [\"fuel_tank_volume\", \"maximum_seating\", \"transmission_display\"])"
   ]
  },
  {
   "cell_type": "code",
   "execution_count": 8,
   "metadata": {},
   "outputs": [],
   "source": [
    "df_extract = df_extract.dropna(subset=\"mileage\")"
   ]
  },
  {
   "cell_type": "code",
   "execution_count": 9,
   "metadata": {},
   "outputs": [],
   "source": [
    "get_mean = lambda df, col: df.select(f.mean(col)).collect()[0].__getattr__(f\"avg({col})\")\n",
    "hp_mean = get_mean(df_extract, \"horsepower\")\n",
    "engine_displacement_mean = get_mean(df_extract, \"engine_displacement\")"
   ]
  },
  {
   "cell_type": "code",
   "execution_count": 20,
   "metadata": {},
   "outputs": [],
   "source": [
    "electric = {\"engine_type\": \"Electric_Motor\", \n",
    "            \"transmission_display\": float(6), \n",
    "            \"horsepower\": hp_mean, \n",
    "            \"engine_displacement\": engine_displacement_mean}\n",
    "\n",
    "df_fill = df_extract\n",
    "for key, item in electric.items():\n",
    "   df_fill = df_fill.withColumn(key, f.when(f.col(\"fuel_type\") == \"Electric\", item).otherwise(f.col(key)))"
   ]
  },
  {
   "cell_type": "code",
   "execution_count": 21,
   "metadata": {},
   "outputs": [],
   "source": [
    "# df_extract.groupby([\"body_type\", \"engine_displacement\", \"engine_type\", \"fuel_type\", \"horsepower\", \"make_name\", \"model_name\",  \"year\"]).agg(f.mean(\"maximum_seating\")).count()\n",
    "def group_agg(df: DF, cols: dict[tuple: list], op: str) -> DF:\n",
    "    func = f.mean if op == \"avg\" else f.max\n",
    "    for key, item in cols.items():\n",
    "        temp = df.groupby(item).agg(*[func(c) for c in key])\n",
    "        df = df.join(temp, on=item)\n",
    "        for k in key:\n",
    "            avg = f\"{op}({k})\"\n",
    "            df = df.withColumn(k, f.when(f.isnull(k), df[avg]).otherwise(df[k])).drop(avg)\n",
    "    return df\n",
    "\n",
    "fill_avg_cols = {\n",
    "    (\"maximum_seating\",):\n",
    "        [\"make_name\", \"model_name\", \"body_type\"],\n",
    "    (\"fuel_tank_volume\",):\n",
    "        [\"make_name\", \"model_name\",  \"year\"],\n",
    "    (\"horsepower\", \"engine_displacement\"):  \n",
    "        [\"engine_type\", \"fuel_type\", \"make_name\", \"model_name\",  \"year\"],\n",
    "    (\"power_rpm\", \"torque_hp\", \"torque_rpm\"):\n",
    "        [\"engine_type\", \"engine_displacement\", \"horsepower\", \"fuel_type\", \"make_name\"],\n",
    "    (\"city_fuel_economy\", \"highway_fuel_economy\"):\n",
    "        [\"body_type\", \"engine_displacement\", \"engine_type\", \"fuel_type\", \"horsepower\", \"make_name\", \"model_name\",  \"year\"]\n",
    "}\n",
    "\n",
    "fill_max_cols = {\n",
    "    (\"body_type\", \"transmission\", \"fuel_type\", \"engine_type\", \"wheel_system\"):\n",
    "        ['make_name','model_name']\n",
    "}"
   ]
  },
  {
   "cell_type": "code",
   "execution_count": 22,
   "metadata": {},
   "outputs": [],
   "source": [
    "df_fill = group_agg(df_fill, fill_avg_cols, \"avg\")\n",
    "df_fill = group_agg(df_fill, fill_max_cols, \"max\")"
   ]
  },
  {
   "cell_type": "code",
   "execution_count": 67,
   "metadata": {},
   "outputs": [],
   "source": [
    "df_final = df_fill.dropna()"
   ]
  },
  {
   "cell_type": "code",
   "execution_count": 68,
   "metadata": {},
   "outputs": [],
   "source": [
    "convert = {\n",
    "    ByteType:   [\"city_fuel_economy\", \"highway_fuel_economy\", \"fuel_tank_volume\", \"maximum_seating\", \"transmission_display\", \"is_new\"],\n",
    "    ShortType:  [\"engine_displacement\", \"horsepower\", \"power_rpm\", \"torque_hp\", \"torque_rpm\", \"year\"],\n",
    "    IntegerType:[\"mileage\", \"price\"]\n",
    "}\n",
    "\n",
    "for t, cols in convert.items():\n",
    "    for col in cols:\n",
    "        df_final = df_final.withColumn(col, df_final[col].cast(t()))"
   ]
  }
 ],
 "metadata": {
  "kernelspec": {
   "display_name": "big",
   "language": "python",
   "name": "python3"
  },
  "language_info": {
   "codemirror_mode": {
    "name": "ipython",
    "version": 3
   },
   "file_extension": ".py",
   "mimetype": "text/x-python",
   "name": "python",
   "nbconvert_exporter": "python",
   "pygments_lexer": "ipython3",
   "version": "3.10.11"
  },
  "orig_nbformat": 4
 },
 "nbformat": 4,
 "nbformat_minor": 2
}
