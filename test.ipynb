{
 "cells": [
  {
   "cell_type": "code",
   "execution_count": null,
   "metadata": {},
   "outputs": [],
   "source": [
    "import json\n",
    "import pandas as pd\n",
    "# from tqdm.auto import tqdm\n",
    "from pyspark.sql import SparkSession, functions as f, DataFrame as DF\n",
    "from pyspark.sql.types import StructType, StructField, IntegerType, StringType, BooleanType, FloatType\n",
    "spark = SparkSession.builder \\\n",
    "      .master(\"local[1]\") \\\n",
    "      .appName(\"SparkByExamples.com\") \\\n",
    "      .getOrCreate() "
   ]
  },
  {
   "cell_type": "code",
   "execution_count": null,
   "metadata": {},
   "outputs": [],
   "source": [
    "df = spark.read.csv(\"./data/used_cars_data_combine.csv\", header=True).drop(\"_c0\", \"Unnamed: 0\")\n",
    "df.createOrReplaceTempView(\"df\")"
   ]
  },
  {
   "cell_type": "code",
   "execution_count": null,
   "metadata": {},
   "outputs": [],
   "source": [
    "null_cnt = df.select([f.count(f.when(f.isnull(c), c)).alias(c) for c in df.columns]).toPandas()\n",
    "threshold = null_cnt > 0.4 * df.count()\n",
    "df = df.drop(*threshold.columns[threshold.iloc[0]])\n",
    "with open(\"./data/useless.json\", 'r') as useless:\n",
    "    df = df.drop(*json.load(useless))\n",
    "df.createOrReplaceTempView(\"df\")"
   ]
  },
  {
   "cell_type": "code",
   "execution_count": null,
   "metadata": {},
   "outputs": [],
   "source": [
    "def performance(engine: str):\n",
    "    if engine is None:\n",
    "        return [None, None]\n",
    "    p = [int(i) for i in engine.replace(\",\",\"\").split() if i.isdigit()]\n",
    "    return p if len(p) == 2 else [None, None]\n",
    "\n",
    "def hp_rpm(df: DF, col: str) -> DF:\n",
    "    original = df.columns\n",
    "    schema = StructType([StructField(f\"{col}_hp\", IntegerType(), True),\n",
    "                         StructField(f\"{col}_rpm\", IntegerType(), True)])\n",
    "    trans = f.udf(performance, schema)\n",
    "    return df.withColumn(\"result\", trans(df[col])).select(*(original + [\"result.*\"]))\n",
    "\n",
    "for col in [\"power\", \"torque\"]:\n",
    "    df = hp_rpm(df, col).drop(col)\n",
    "\n",
    "df_drop = df.drop(\"power_hp\")"
   ]
  },
  {
   "cell_type": "code",
   "execution_count": null,
   "metadata": {},
   "outputs": [],
   "source": [
    "df_drop.printSchema()"
   ]
  },
  {
   "cell_type": "code",
   "execution_count": null,
   "metadata": {},
   "outputs": [],
   "source": [
    "transmission = f.udf(lambda tr: \"6\" if tr in [\"Automatic\", \"Continuously Variable Transmission\", \"Manual\"] else tr, StringType())\n",
    "df_extract = df_drop.withColumn(\"transmission_display\", transmission(df[\"transmission_display\"]))"
   ]
  },
  {
   "cell_type": "code",
   "execution_count": null,
   "metadata": {},
   "outputs": [],
   "source": [
    "df_extract = df_extract.withColumn(\"is_new\", df[\"is_new\"].cast(BooleanType()).cast(IntegerType()))"
   ]
  },
  {
   "cell_type": "code",
   "execution_count": null,
   "metadata": {},
   "outputs": [],
   "source": [
    "def extract_val(df: DF, cols: list) -> DF:\n",
    "    for col in cols:\n",
    "        df = df.withColumn(col, f.regexp_extract(col, r\"(\\d+(?:\\.\\d+)?)\", 1).cast(FloatType()))\n",
    "    return df\n",
    "\n",
    "df_extract = extract_val(df_extract, [\"fuel_tank_volume\", \"maximum_seating\", \"transmission_display\"])"
   ]
  },
  {
   "cell_type": "code",
   "execution_count": null,
   "metadata": {},
   "outputs": [],
   "source": [
    "df_extract = df_extract.dropna(subset=\"mileage\")"
   ]
  },
  {
   "cell_type": "code",
   "execution_count": null,
   "metadata": {},
   "outputs": [],
   "source": [
    "get_mean = lambda df, col: df.select(f.mean(col)).collect()[0].__getattr__(f\"avg({col})\")\n",
    "hp_mean = get_mean(df_extract, \"horsepower\")\n",
    "engine_displacement_mean = get_mean(df_extract, \"engine_displacement\")"
   ]
  },
  {
   "cell_type": "code",
   "execution_count": null,
   "metadata": {},
   "outputs": [],
   "source": [
    "electric = {\"engine_type\": \"Electric_Motor\", \n",
    "            \"transmission_display\": float(6), \n",
    "            \"horsepower\": hp_mean, \n",
    "            \"engine_displacement\": engine_displacement_mean}\n",
    "\n",
    "df_fill = df_extract\n",
    "for key, item in electric.items():\n",
    "   df_fill = df_fill.withColumn(key, f.when(f.col(\"fuel_type\") == \"Electric\", item).otherwise(f.col(key)))"
   ]
  },
  {
   "cell_type": "code",
   "execution_count": 205,
   "metadata": {},
   "outputs": [],
   "source": [
    "fill_null_cols = [\"maximum_seating\", \n",
    "                  \"city_fuel_economy\", \n",
    "                  \"highway_fuel_economy\", \n",
    "                  \"horsepower\", \n",
    "                  \"engine_displacement\", \n",
    "                  \"fuel_tank_volume\", \n",
    "                  \"power_rpm\", \n",
    "                  \"torque_hp\", \n",
    "                  \"torque_rpm\"]\n",
    "fill_val = df_fill.select([f.mean(c).alias(c) for c in fill_null_cols]).toPandas()"
   ]
  },
  {
   "cell_type": "code",
   "execution_count": 211,
   "metadata": {},
   "outputs": [],
   "source": [
    "test = df_fill\n",
    "for key, item in fill_val.items():\n",
    "    test = test.na.fill(value=item[0], subset=key)"
   ]
  },
  {
   "cell_type": "code",
   "execution_count": 218,
   "metadata": {},
   "outputs": [
    {
     "data": {
      "text/plain": [
       "2855653"
      ]
     },
     "execution_count": 218,
     "metadata": {},
     "output_type": "execute_result"
    }
   ],
   "source": [
    "test.count()"
   ]
  },
  {
   "cell_type": "code",
   "execution_count": 216,
   "metadata": {},
   "outputs": [
    {
     "name": "stdout",
     "output_type": "stream",
     "text": [
      "+----------------------+------------------------+---------------------------+-----------------+--------------------------+-----------------------+----------------+----------------+-----------------+\n",
      "|count(maximum_seating)|count(city_fuel_economy)|count(highway_fuel_economy)|count(horsepower)|count(engine_displacement)|count(fuel_tank_volume)|count(power_rpm)|count(torque_hp)|count(torque_rpm)|\n",
      "+----------------------+------------------------+---------------------------+-----------------+--------------------------+-----------------------+----------------+----------------+-----------------+\n",
      "|               2855653|                 2395048|                    2395048|          2711444|                   2711444|                2855653|         2855653|         2855653|          2855653|\n",
      "+----------------------+------------------------+---------------------------+-----------------+--------------------------+-----------------------+----------------+----------------+-----------------+\n",
      "\n"
     ]
    }
   ],
   "source": [
    "test.createOrReplaceTempView(\"table\")\n",
    "spark.sql(f'''\n",
    "   select {', '.join([f\"count({col})\" for col in fill_null_cols])}\n",
    "   from table\n",
    "''').show()"
   ]
  },
  {
   "cell_type": "code",
   "execution_count": 213,
   "metadata": {},
   "outputs": [
    {
     "name": "stdout",
     "output_type": "stream",
     "text": [
      "root\n",
      " |-- body_type: string (nullable = true)\n",
      " |-- city_fuel_economy: string (nullable = true)\n",
      " |-- engine_displacement: string (nullable = true)\n",
      " |-- engine_type: string (nullable = true)\n",
      " |-- fuel_tank_volume: float (nullable = false)\n",
      " |-- fuel_type: string (nullable = true)\n",
      " |-- highway_fuel_economy: string (nullable = true)\n",
      " |-- horsepower: string (nullable = true)\n",
      " |-- is_new: integer (nullable = true)\n",
      " |-- listing_color: string (nullable = true)\n",
      " |-- make_name: string (nullable = true)\n",
      " |-- maximum_seating: float (nullable = false)\n",
      " |-- mileage: string (nullable = true)\n",
      " |-- model_name: string (nullable = true)\n",
      " |-- price: string (nullable = true)\n",
      " |-- transmission: string (nullable = true)\n",
      " |-- transmission_display: double (nullable = true)\n",
      " |-- wheel_system: string (nullable = true)\n",
      " |-- year: string (nullable = true)\n",
      " |-- sold_date: string (nullable = true)\n",
      " |-- sold_date_CPI: string (nullable = true)\n",
      " |-- sold_date_Manheim: string (nullable = true)\n",
      " |-- power_rpm: integer (nullable = true)\n",
      " |-- torque_hp: integer (nullable = true)\n",
      " |-- torque_rpm: integer (nullable = true)\n",
      "\n"
     ]
    }
   ],
   "source": [
    "test.printSchema()"
   ]
  },
  {
   "cell_type": "code",
   "execution_count": null,
   "metadata": {},
   "outputs": [],
   "source": [
    "df_fill.createOrReplaceTempView(\"df\")\n",
    "spark.sql('''\n",
    "   select count(engine_displacement)\n",
    "   from df\n",
    "''').show(100)"
   ]
  }
 ],
 "metadata": {
  "kernelspec": {
   "display_name": "big",
   "language": "python",
   "name": "python3"
  },
  "language_info": {
   "codemirror_mode": {
    "name": "ipython",
    "version": 3
   },
   "file_extension": ".py",
   "mimetype": "text/x-python",
   "name": "python",
   "nbconvert_exporter": "python",
   "pygments_lexer": "ipython3",
   "version": "3.10.11"
  },
  "orig_nbformat": 4
 },
 "nbformat": 4,
 "nbformat_minor": 2
}
